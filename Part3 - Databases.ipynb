{
 "cells": [
  {
   "cell_type": "code",
   "execution_count": 7,
   "metadata": {},
   "outputs": [
    {
     "name": "stdout",
     "output_type": "stream",
     "text": [
      "('Salah Kareem', 'Data programming')\n",
      "('Leonardo Muzi', 'Data Manipulation')\n"
     ]
    }
   ],
   "source": [
    "import sqlite3\n",
    "conn = sqlite3.connect('sudents3.db3')\n",
    "\n",
    "cur1=conn.cursor()\n",
    "cur1.execute('DROP TABLE IF EXISTS sts')\n",
    "cur1.execute('CREATE TABLE sts (stID PRIMARY KEY, StName TEXT)')\n",
    "cur1.execute('INSERT INTO sts (StID,StName) VALUES (\"200445238\",\"Salah Kareem\")')\n",
    "cur1.execute('INSERT INTO sts (StID,StName) VALUES (\"200445237\",\"Leonardo Muzi\")')\n",
    "cur1.execute('INSERT INTO sts (StID,StName) VALUES (\"200445236\",\"Abdelrahman Tealab\")')\n",
    "conn.commit()\n",
    "cur1.execute('DROP TABLE IF EXISTS courses')\n",
    "cur1.execute('CREATE TABLE courses (courseID PRIMARY KEY, courseName TEXT, stID TEXT, FOREIGN KEY (stID) REFERENCES sts(stID))')\n",
    "cur1.execute('INSERT INTO courses (courseID, courseName, stID) VALUES (\"221\",\"Data programming\",\"200445238\")')\n",
    "cur1.execute('INSERT INTO courses (courseID, courseName, stID) VALUES (\"222\",\"Data Manipulation\",\"200445237\")')\n",
    "\n",
    "cur1.execute('SELECT sts.StName, courses.courseName FROM sts INNER JOIN courses ON sts.StID = courses.stID')\n",
    "\n",
    "for row in cur1:\n",
    "    print (row)\n",
    "    \n",
    "cur1.close()"
   ]
  },
  {
   "cell_type": "code",
   "execution_count": null,
   "metadata": {},
   "outputs": [],
   "source": []
  },
  {
   "cell_type": "code",
   "execution_count": null,
   "metadata": {},
   "outputs": [],
   "source": []
  }
 ],
 "metadata": {
  "kernelspec": {
   "display_name": "Python 3",
   "language": "python",
   "name": "python3"
  },
  "language_info": {
   "codemirror_mode": {
    "name": "ipython",
    "version": 3
   },
   "file_extension": ".py",
   "mimetype": "text/x-python",
   "name": "python",
   "nbconvert_exporter": "python",
   "pygments_lexer": "ipython3",
   "version": "3.7.4"
  }
 },
 "nbformat": 4,
 "nbformat_minor": 2
}
