{
 "cells": [
  {
   "cell_type": "code",
   "execution_count": 15,
   "metadata": {},
   "outputs": [
    {
     "ename": "OperationalError",
     "evalue": "no such column: courses.st",
     "output_type": "error",
     "traceback": [
      "\u001b[1;31m---------------------------------------------------------------------------\u001b[0m",
      "\u001b[1;31mOperationalError\u001b[0m                          Traceback (most recent call last)",
      "\u001b[1;32m<ipython-input-15-91810a0a6e34>\u001b[0m in \u001b[0;36m<module>\u001b[1;34m\u001b[0m\n\u001b[0;32m     14\u001b[0m \u001b[0mcur1\u001b[0m\u001b[1;33m.\u001b[0m\u001b[0mexecute\u001b[0m\u001b[1;33m(\u001b[0m\u001b[1;34m'INSERT INTO courses (courseID, courseName) VALUES (\"222\",\"Data Manipulation\")'\u001b[0m\u001b[1;33m)\u001b[0m\u001b[1;33m\u001b[0m\u001b[1;33m\u001b[0m\u001b[0m\n\u001b[0;32m     15\u001b[0m \u001b[1;33m\u001b[0m\u001b[0m\n\u001b[1;32m---> 16\u001b[1;33m \u001b[0mp\u001b[0m \u001b[1;33m=\u001b[0m \u001b[0mcur1\u001b[0m\u001b[1;33m.\u001b[0m\u001b[0mexecute\u001b[0m\u001b[1;33m(\u001b[0m\u001b[1;34m'SELECT sts.StName, courses.courseName FROM sts INNER JOIN courses ON sts.StID = courses.st'\u001b[0m\u001b[1;33m)\u001b[0m\u001b[1;33m\u001b[0m\u001b[1;33m\u001b[0m\u001b[0m\n\u001b[0m\u001b[0;32m     17\u001b[0m \u001b[1;32mfor\u001b[0m \u001b[0mrow\u001b[0m \u001b[1;32min\u001b[0m \u001b[0mp\u001b[0m\u001b[1;33m:\u001b[0m\u001b[1;33m\u001b[0m\u001b[1;33m\u001b[0m\u001b[0m\n\u001b[0;32m     18\u001b[0m     \u001b[0mprint\u001b[0m \u001b[1;33m(\u001b[0m\u001b[0mp\u001b[0m\u001b[1;33m)\u001b[0m\u001b[1;33m\u001b[0m\u001b[1;33m\u001b[0m\u001b[0m\n",
      "\u001b[1;31mOperationalError\u001b[0m: no such column: courses.st"
     ]
    }
   ],
   "source": [
    "import sqlite3\n",
    "conn = sqlite3.connect('sudents.db3')\n",
    "\n",
    "cur1=conn.cursor()\n",
    "cur1.execute('DROP TABLE IF EXISTS sts')\n",
    "cur1.execute('CREATE TABLE sts (stID PRIMARY KEY, StName TEXT')\n",
    "cur1.execute('INSERT INTO sts (StID,StName) VALUES (\"200445238\",\"Salah Kareem\")')\n",
    "cur1.execute('INSERT INTO sts (StID,StName) VALUES (\"200445237\",\"Leonardo Muzi\")')\n",
    "cur1.execute('INSERT INTO sts (StID,StName) VALUES (\"200445236\",\"Abdelrahman Tealab\")')\n",
    "conn.commit()\n",
    "cur1.execute('DROP TABLE IF EXISTS courses')\n",
    "cur1.execute('CREATE TABLE courses (courseID PRIMARY KEY, courseName TEXT course INTEGER, FOREIGN KEY (stID) REFERENCES sts(courseID)))')\n",
    "cur1.execute('INSERT INTO courses (courseID, courseName) VALUES (\"221\",\"Data programming\")')\n",
    "cur1.execute('INSERT INTO courses (courseID, courseName) VALUES (\"222\",\"Data Manipulation\")')\n",
    "\n",
    "p = cur1.execute('SELECT sts.StName, courses.courseName FROM sts INNER JOIN courses ON sts.StID = courses.st')\n",
    "for row in p:\n",
    "    print (p)"
   ]
  },
  {
   "cell_type": "code",
   "execution_count": null,
   "metadata": {},
   "outputs": [],
   "source": []
  },
  {
   "cell_type": "code",
   "execution_count": null,
   "metadata": {},
   "outputs": [],
   "source": []
  }
 ],
 "metadata": {
  "kernelspec": {
   "display_name": "Python 3",
   "language": "python",
   "name": "python3"
  },
  "language_info": {
   "codemirror_mode": {
    "name": "ipython",
    "version": 3
   },
   "file_extension": ".py",
   "mimetype": "text/x-python",
   "name": "python",
   "nbconvert_exporter": "python",
   "pygments_lexer": "ipython3",
   "version": "3.7.4"
  }
 },
 "nbformat": 4,
 "nbformat_minor": 2
}
