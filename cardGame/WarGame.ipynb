{
 "cells": [
  {
   "cell_type": "code",
   "execution_count": 2,
   "metadata": {},
   "outputs": [],
   "source": [
    "class Card:\n",
    "    def __init__(self, suit, value):\n",
    "        self.suit = suit\n",
    "        self.value = value"
   ]
  },
  {
   "cell_type": "code",
   "execution_count": 3,
   "metadata": {},
   "outputs": [],
   "source": [
    "import random\n",
    "\n",
    "class Deck:\n",
    "    \n",
    "    def Remove(self,indexUser,indexComp):\n",
    "        self.cards.pop(indexUser)\n",
    "        self.cards.pop(indexComp-1)\n",
    "    \n",
    "    def Deal(self):\n",
    "        range = len(self.cards)-1\n",
    "        indexUser = random.randint(0,range)\n",
    "        indexComp = random.randint(0,range)\n",
    "        \n",
    "        while(indexUser==indexComp):\n",
    "            indexComp = random.randint(0,range)\n",
    "            \n",
    "        userCard = self.cards[indexUser]\n",
    "        compCard = self.cards[indexComp]\n",
    "        \n",
    "        return userCard, indexUser, compCard, indexComp\n",
    "    \n",
    "    def Shuffle(self):\n",
    "        random.shuffle(self.cards)\n",
    "\n",
    "    def __init__(self):\n",
    "        setCards = ['A','2','3','4','5','6','7','8','9','10','J','Q','K']\n",
    "        setSuits = ['Spades','Hearts','Diamonds','Clubs']\n",
    "        \n",
    "        cards = []\n",
    "        \n",
    "        for suit in setSuits:\n",
    "            for card in setCards:\n",
    "                cards.append(Card(suit,card))\n",
    "        \n",
    "        self.cards = cards\n",
    "        self.Shuffle()"
   ]
  },
  {
   "cell_type": "code",
   "execution_count": 4,
   "metadata": {},
   "outputs": [],
   "source": [
    "import time\n",
    "\n",
    "class WarGame:\n",
    "    \n",
    "    def __init__(self):\n",
    "        orderOfCards = ['A','2','3','4','5','6','7','8','9','10','J','Q','K']\n",
    "        print(\"Welcome to WAR game... the game will start...\\n\")\n",
    "        deck = Deck()\n",
    "        userCount = 0\n",
    "        compCount = 0\n",
    "        \n",
    "        while(True):\n",
    "            userCard, indexUser, compCard, indexComp = deck.Deal()\n",
    "\n",
    "            print(\"Your card:\",userCard.suit,userCard.value)\n",
    "            print(\"Computer card:\",compCard.suit,compCard.value)\n",
    "\n",
    "            valUser = orderOfCards.index(userCard.value)\n",
    "            valComp = orderOfCards.index(compCard.value)\n",
    "\n",
    "            if(valUser>valComp):\n",
    "                print(\"Your card is bigger!\")\n",
    "                userCount += 1\n",
    "            elif(valUser<valComp):\n",
    "                compCount += 1\n",
    "                print(\"Computer's card is bigger!\")\n",
    "            else:\n",
    "                print(\"WAR!\")\n",
    "                print(\"You won\",userCount,\"times\")\n",
    "                print(\"Computer won\",compCount,\"times\")\n",
    "                break\n",
    "\n",
    "            deck.Remove(indexUser,indexComp)\n",
    "\n",
    "            print(\"The computer will deal again...\\n\")\n",
    "            time.sleep(2)"
   ]
  },
  {
   "cell_type": "code",
   "execution_count": 5,
   "metadata": {},
   "outputs": [
    {
     "name": "stdout",
     "output_type": "stream",
     "text": [
      "Welcome to WAR game... the game will start...\n",
      "\n",
      "Your card: Spades Q\n",
      "Computer card: Spades 6\n",
      "Your card is bigger!\n",
      "The computer will deal again...\n",
      "\n",
      "Your card: Diamonds K\n",
      "Computer card: Diamonds 5\n",
      "Your card is bigger!\n",
      "The computer will deal again...\n",
      "\n",
      "Your card: Spades 7\n",
      "Computer card: Clubs 2\n",
      "Your card is bigger!\n",
      "The computer will deal again...\n",
      "\n",
      "Your card: Spades 2\n",
      "Computer card: Diamonds A\n",
      "Your card is bigger!\n",
      "The computer will deal again...\n",
      "\n",
      "Your card: Hearts 5\n",
      "Computer card: Hearts A\n",
      "Your card is bigger!\n",
      "The computer will deal again...\n",
      "\n",
      "Your card: Clubs 8\n",
      "Computer card: Diamonds 4\n",
      "Your card is bigger!\n",
      "The computer will deal again...\n",
      "\n",
      "Your card: Clubs 6\n",
      "Computer card: Hearts 6\n",
      "WAR!\n",
      "You won 6 times\n",
      "Computer won 0 times\n"
     ]
    },
    {
     "data": {
      "text/plain": [
       "<__main__.WarGame at 0x200d0b36548>"
      ]
     },
     "execution_count": 5,
     "metadata": {},
     "output_type": "execute_result"
    }
   ],
   "source": [
    "WarGame()"
   ]
  },
  {
   "cell_type": "code",
   "execution_count": null,
   "metadata": {},
   "outputs": [],
   "source": []
  }
 ],
 "metadata": {
  "kernelspec": {
   "display_name": "Python 3",
   "language": "python",
   "name": "python3"
  },
  "language_info": {
   "codemirror_mode": {
    "name": "ipython",
    "version": 3
   },
   "file_extension": ".py",
   "mimetype": "text/x-python",
   "name": "python",
   "nbconvert_exporter": "python",
   "pygments_lexer": "ipython3",
   "version": "3.7.4"
  }
 },
 "nbformat": 4,
 "nbformat_minor": 2
}
